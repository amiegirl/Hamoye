{
  "nbformat": 4,
  "nbformat_minor": 0,
  "metadata": {
    "colab": {
      "name": "Hamoye-StageA-Quiz_Intro-to-python-for-machine-learning.ipynb",
      "provenance": [],
      "mount_file_id": "1y6ZXze0j04GcVc2hVaGDLy1LNf0odW6F",
      "authorship_tag": "ABX9TyPos4HMFRvyf3rZH3TEuFy0"
    },
    "kernelspec": {
      "name": "python3",
      "display_name": "Python 3"
    },
    "language_info": {
      "name": "python"
    }
  },
  "cells": [
    {
      "cell_type": "code",
      "execution_count": 1,
      "metadata": {
        "id": "YVJ3TbyHmajb"
      },
      "outputs": [],
      "source": [
        "import pandas as pd\n",
        "import numpy as np"
      ]
    },
    {
      "cell_type": "code",
      "source": [
        "lst=[[35,'Portugal',94],[33,'Argentina',93],[30,'Brazil',92]]\n",
        "col=['Age','Nationality','Overall']\n",
        "df=pd.DataFrame(lst,columns=col,index=[1,2,3])\n",
        "print(df)"
      ],
      "metadata": {
        "colab": {
          "base_uri": "https://localhost:8080/"
        },
        "id": "gvcPmVKBmsyP",
        "outputId": "6efd243a-c47a-489a-e94f-20d18d94e48f"
      },
      "execution_count": 2,
      "outputs": [
        {
          "output_type": "stream",
          "name": "stdout",
          "text": [
            "   Age Nationality  Overall\n",
            "1   35    Portugal       94\n",
            "2   33   Argentina       93\n",
            "3   30      Brazil       92\n"
          ]
        }
      ]
    },
    {
      "cell_type": "code",
      "source": [
        "array=np.array([[94, 89, 63],[93, 92, 48],[92, 94, 56]])\n",
        "array[:2,1:]"
      ],
      "metadata": {
        "colab": {
          "base_uri": "https://localhost:8080/"
        },
        "id": "6yotEVq3m6v_",
        "outputId": "16eed3fc-67e3-470a-f317-0d87ba93e664"
      },
      "execution_count": 4,
      "outputs": [
        {
          "output_type": "execute_result",
          "data": {
            "text/plain": [
              "array([[89, 63],\n",
              "       [92, 48]])"
            ]
          },
          "metadata": {},
          "execution_count": 4
        }
      ]
    },
    {
      "cell_type": "code",
      "source": [
        "S=[['him', 'sell'], [90, 28, 43]]\n",
        "\n",
        "S[0][1][1]"
      ],
      "metadata": {
        "colab": {
          "base_uri": "https://localhost:8080/",
          "height": 35
        },
        "id": "pIgalhazngtX",
        "outputId": "34e7b418-d4b4-438a-b2b6-7009808a6802"
      },
      "execution_count": 5,
      "outputs": [
        {
          "output_type": "execute_result",
          "data": {
            "application/vnd.google.colaboratory.intrinsic+json": {
              "type": "string"
            },
            "text/plain": [
              "'e'"
            ]
          },
          "metadata": {},
          "execution_count": 5
        }
      ]
    },
    {
      "cell_type": "code",
      "source": [
        "my_tuppy = (1,2,5,8)\n",
        "\n",
        "my_tuppy[2] = 6"
      ],
      "metadata": {
        "colab": {
          "base_uri": "https://localhost:8080/",
          "height": 200
        },
        "id": "Vp1VGQjans81",
        "outputId": "4d5fa557-ddf6-496c-96d6-1310aa513379"
      },
      "execution_count": 6,
      "outputs": [
        {
          "output_type": "error",
          "ename": "TypeError",
          "evalue": "ignored",
          "traceback": [
            "\u001b[0;31m---------------------------------------------------------------------------\u001b[0m",
            "\u001b[0;31mTypeError\u001b[0m                                 Traceback (most recent call last)",
            "\u001b[0;32m<ipython-input-6-ce1543b3be47>\u001b[0m in \u001b[0;36m<module>\u001b[0;34m()\u001b[0m\n\u001b[1;32m      1\u001b[0m \u001b[0mmy_tuppy\u001b[0m \u001b[0;34m=\u001b[0m \u001b[0;34m(\u001b[0m\u001b[0;36m1\u001b[0m\u001b[0;34m,\u001b[0m\u001b[0;36m2\u001b[0m\u001b[0;34m,\u001b[0m\u001b[0;36m5\u001b[0m\u001b[0;34m,\u001b[0m\u001b[0;36m8\u001b[0m\u001b[0;34m)\u001b[0m\u001b[0;34m\u001b[0m\u001b[0;34m\u001b[0m\u001b[0m\n\u001b[1;32m      2\u001b[0m \u001b[0;34m\u001b[0m\u001b[0m\n\u001b[0;32m----> 3\u001b[0;31m \u001b[0mmy_tuppy\u001b[0m\u001b[0;34m[\u001b[0m\u001b[0;36m2\u001b[0m\u001b[0;34m]\u001b[0m \u001b[0;34m=\u001b[0m \u001b[0;36m6\u001b[0m\u001b[0;34m\u001b[0m\u001b[0;34m\u001b[0m\u001b[0m\n\u001b[0m",
            "\u001b[0;31mTypeError\u001b[0m: 'tuple' object does not support item assignment"
          ]
        }
      ]
    },
    {
      "cell_type": "code",
      "source": [
        "y = [(2, 4), (7, 8), (1, 5, 9)]\n",
        "x = y[1][1]\n",
        "print(x )"
      ],
      "metadata": {
        "colab": {
          "base_uri": "https://localhost:8080/"
        },
        "id": "ji-AdoX8n1DM",
        "outputId": "6e1ea75c-b927-43bb-bda4-bf270e256d91"
      },
      "execution_count": 13,
      "outputs": [
        {
          "output_type": "stream",
          "name": "stdout",
          "text": [
            "8\n"
          ]
        }
      ]
    },
    {
      "cell_type": "code",
      "source": [
        "%cd /content/drive/My Drive/Colab Notebooks/"
      ],
      "metadata": {
        "colab": {
          "base_uri": "https://localhost:8080/"
        },
        "id": "rYtcA1XvobUu",
        "outputId": "f69e9eeb-8fca-4f05-fb35-a115f0217702"
      },
      "execution_count": 18,
      "outputs": [
        {
          "output_type": "stream",
          "name": "stdout",
          "text": [
            "/content/drive/My Drive/Colab Notebooks\n"
          ]
        }
      ]
    },
    {
      "cell_type": "code",
      "source": [
        "df=pd.read_csv('FoodBalanceSheets_E_Africa_NOFLAG.csv',encoding='latin-1')\n",
        "print(df)"
      ],
      "metadata": {
        "colab": {
          "base_uri": "https://localhost:8080/"
        },
        "id": "VgrpNwTHpIsN",
        "outputId": "8f8657ea-341c-4e86-dc47-7000a732787a"
      },
      "execution_count": 17,
      "outputs": [
        {
          "output_type": "stream",
          "name": "stdout",
          "text": [
            "       Area Code      Area  Item Code  ...     Y2016     Y2017     Y2018\n",
            "0              4   Algeria       2501  ...  40551.00  41389.00  42228.00\n",
            "1              4   Algeria       2501  ...      0.00      0.00      0.00\n",
            "2              4   Algeria       2901  ...   3372.00   3341.00   3322.00\n",
            "3              4   Algeria       2901  ...     94.72     92.82     91.83\n",
            "4              4   Algeria       2901  ...     77.40     80.19     77.28\n",
            "...          ...       ...        ...  ...       ...       ...       ...\n",
            "60938        181  Zimbabwe       2899  ...     33.00     19.00     16.00\n",
            "60939        181  Zimbabwe       2899  ...      2.35      1.33      1.08\n",
            "60940        181  Zimbabwe       2899  ...      3.00      1.00      1.00\n",
            "60941        181  Zimbabwe       2899  ...      0.08      0.04      0.04\n",
            "60942        181  Zimbabwe       2899  ...      0.03      0.02      0.01\n",
            "\n",
            "[60943 rows x 12 columns]\n"
          ]
        }
      ]
    },
    {
      "cell_type": "code",
      "source": [
        "#11\n",
        "df.groupby(['Item']).sum()[['Y2014','Y2017']]\n"
      ],
      "metadata": {
        "colab": {
          "base_uri": "https://localhost:8080/",
          "height": 455
        },
        "id": "cbw67Cs-pLAL",
        "outputId": "1210e645-2fe0-4caa-8e5a-9a15e36f4f14"
      },
      "execution_count": 19,
      "outputs": [
        {
          "output_type": "execute_result",
          "data": {
            "text/html": [
              "\n",
              "  <div id=\"df-22be9085-ad03-49ff-8223-c0a03e290968\">\n",
              "    <div class=\"colab-df-container\">\n",
              "      <div>\n",
              "<style scoped>\n",
              "    .dataframe tbody tr th:only-of-type {\n",
              "        vertical-align: middle;\n",
              "    }\n",
              "\n",
              "    .dataframe tbody tr th {\n",
              "        vertical-align: top;\n",
              "    }\n",
              "\n",
              "    .dataframe thead th {\n",
              "        text-align: right;\n",
              "    }\n",
              "</style>\n",
              "<table border=\"1\" class=\"dataframe\">\n",
              "  <thead>\n",
              "    <tr style=\"text-align: right;\">\n",
              "      <th></th>\n",
              "      <th>Y2014</th>\n",
              "      <th>Y2017</th>\n",
              "    </tr>\n",
              "    <tr>\n",
              "      <th>Item</th>\n",
              "      <th></th>\n",
              "      <th></th>\n",
              "    </tr>\n",
              "  </thead>\n",
              "  <tbody>\n",
              "    <tr>\n",
              "      <th>Alcohol, Non-Food</th>\n",
              "      <td>2403.00</td>\n",
              "      <td>2348.00</td>\n",
              "    </tr>\n",
              "    <tr>\n",
              "      <th>Alcoholic Beverages</th>\n",
              "      <td>102410.11</td>\n",
              "      <td>95581.06</td>\n",
              "    </tr>\n",
              "    <tr>\n",
              "      <th>Animal Products</th>\n",
              "      <td>11935.65</td>\n",
              "      <td>11547.65</td>\n",
              "    </tr>\n",
              "    <tr>\n",
              "      <th>Animal fats</th>\n",
              "      <td>209460.54</td>\n",
              "      <td>269617.53</td>\n",
              "    </tr>\n",
              "    <tr>\n",
              "      <th>Apples and products</th>\n",
              "      <td>9499.23</td>\n",
              "      <td>10198.90</td>\n",
              "    </tr>\n",
              "    <tr>\n",
              "      <th>...</th>\n",
              "      <td>...</td>\n",
              "      <td>...</td>\n",
              "    </tr>\n",
              "    <tr>\n",
              "      <th>Vegetables, Other</th>\n",
              "      <td>155038.96</td>\n",
              "      <td>157752.59</td>\n",
              "    </tr>\n",
              "    <tr>\n",
              "      <th>Vegetal Products</th>\n",
              "      <td>107145.19</td>\n",
              "      <td>107655.20</td>\n",
              "    </tr>\n",
              "    <tr>\n",
              "      <th>Wheat and products</th>\n",
              "      <td>232670.13</td>\n",
              "      <td>240047.62</td>\n",
              "    </tr>\n",
              "    <tr>\n",
              "      <th>Wine</th>\n",
              "      <td>4497.36</td>\n",
              "      <td>4178.02</td>\n",
              "    </tr>\n",
              "    <tr>\n",
              "      <th>Yams</th>\n",
              "      <td>200396.96</td>\n",
              "      <td>229174.59</td>\n",
              "    </tr>\n",
              "  </tbody>\n",
              "</table>\n",
              "<p>119 rows × 2 columns</p>\n",
              "</div>\n",
              "      <button class=\"colab-df-convert\" onclick=\"convertToInteractive('df-22be9085-ad03-49ff-8223-c0a03e290968')\"\n",
              "              title=\"Convert this dataframe to an interactive table.\"\n",
              "              style=\"display:none;\">\n",
              "        \n",
              "  <svg xmlns=\"http://www.w3.org/2000/svg\" height=\"24px\"viewBox=\"0 0 24 24\"\n",
              "       width=\"24px\">\n",
              "    <path d=\"M0 0h24v24H0V0z\" fill=\"none\"/>\n",
              "    <path d=\"M18.56 5.44l.94 2.06.94-2.06 2.06-.94-2.06-.94-.94-2.06-.94 2.06-2.06.94zm-11 1L8.5 8.5l.94-2.06 2.06-.94-2.06-.94L8.5 2.5l-.94 2.06-2.06.94zm10 10l.94 2.06.94-2.06 2.06-.94-2.06-.94-.94-2.06-.94 2.06-2.06.94z\"/><path d=\"M17.41 7.96l-1.37-1.37c-.4-.4-.92-.59-1.43-.59-.52 0-1.04.2-1.43.59L10.3 9.45l-7.72 7.72c-.78.78-.78 2.05 0 2.83L4 21.41c.39.39.9.59 1.41.59.51 0 1.02-.2 1.41-.59l7.78-7.78 2.81-2.81c.8-.78.8-2.07 0-2.86zM5.41 20L4 18.59l7.72-7.72 1.47 1.35L5.41 20z\"/>\n",
              "  </svg>\n",
              "      </button>\n",
              "      \n",
              "  <style>\n",
              "    .colab-df-container {\n",
              "      display:flex;\n",
              "      flex-wrap:wrap;\n",
              "      gap: 12px;\n",
              "    }\n",
              "\n",
              "    .colab-df-convert {\n",
              "      background-color: #E8F0FE;\n",
              "      border: none;\n",
              "      border-radius: 50%;\n",
              "      cursor: pointer;\n",
              "      display: none;\n",
              "      fill: #1967D2;\n",
              "      height: 32px;\n",
              "      padding: 0 0 0 0;\n",
              "      width: 32px;\n",
              "    }\n",
              "\n",
              "    .colab-df-convert:hover {\n",
              "      background-color: #E2EBFA;\n",
              "      box-shadow: 0px 1px 2px rgba(60, 64, 67, 0.3), 0px 1px 3px 1px rgba(60, 64, 67, 0.15);\n",
              "      fill: #174EA6;\n",
              "    }\n",
              "\n",
              "    [theme=dark] .colab-df-convert {\n",
              "      background-color: #3B4455;\n",
              "      fill: #D2E3FC;\n",
              "    }\n",
              "\n",
              "    [theme=dark] .colab-df-convert:hover {\n",
              "      background-color: #434B5C;\n",
              "      box-shadow: 0px 1px 3px 1px rgba(0, 0, 0, 0.15);\n",
              "      filter: drop-shadow(0px 1px 2px rgba(0, 0, 0, 0.3));\n",
              "      fill: #FFFFFF;\n",
              "    }\n",
              "  </style>\n",
              "\n",
              "      <script>\n",
              "        const buttonEl =\n",
              "          document.querySelector('#df-22be9085-ad03-49ff-8223-c0a03e290968 button.colab-df-convert');\n",
              "        buttonEl.style.display =\n",
              "          google.colab.kernel.accessAllowed ? 'block' : 'none';\n",
              "\n",
              "        async function convertToInteractive(key) {\n",
              "          const element = document.querySelector('#df-22be9085-ad03-49ff-8223-c0a03e290968');\n",
              "          const dataTable =\n",
              "            await google.colab.kernel.invokeFunction('convertToInteractive',\n",
              "                                                     [key], {});\n",
              "          if (!dataTable) return;\n",
              "\n",
              "          const docLinkHtml = 'Like what you see? Visit the ' +\n",
              "            '<a target=\"_blank\" href=https://colab.research.google.com/notebooks/data_table.ipynb>data table notebook</a>'\n",
              "            + ' to learn more about interactive tables.';\n",
              "          element.innerHTML = '';\n",
              "          dataTable['output_type'] = 'display_data';\n",
              "          await google.colab.output.renderOutput(dataTable, element);\n",
              "          const docLink = document.createElement('div');\n",
              "          docLink.innerHTML = docLinkHtml;\n",
              "          element.appendChild(docLink);\n",
              "        }\n",
              "      </script>\n",
              "    </div>\n",
              "  </div>\n",
              "  "
            ],
            "text/plain": [
              "                         Y2014      Y2017\n",
              "Item                                     \n",
              "Alcohol, Non-Food      2403.00    2348.00\n",
              "Alcoholic Beverages  102410.11   95581.06\n",
              "Animal Products       11935.65   11547.65\n",
              "Animal fats          209460.54  269617.53\n",
              "Apples and products    9499.23   10198.90\n",
              "...                        ...        ...\n",
              "Vegetables, Other    155038.96  157752.59\n",
              "Vegetal Products     107145.19  107655.20\n",
              "Wheat and products   232670.13  240047.62\n",
              "Wine                   4497.36    4178.02\n",
              "Yams                 200396.96  229174.59\n",
              "\n",
              "[119 rows x 2 columns]"
            ]
          },
          "metadata": {},
          "execution_count": 19
        }
      ]
    },
    {
      "cell_type": "code",
      "source": [
        "#12\n",
        "print('mean:',np.round(np.mean(df.Y2015),3))"
      ],
      "metadata": {
        "colab": {
          "base_uri": "https://localhost:8080/"
        },
        "id": "LhFyYgFlpnin",
        "outputId": "cc7c0568-918e-4fa1-8863-cf6e17d9a47c"
      },
      "execution_count": 21,
      "outputs": [
        {
          "output_type": "stream",
          "name": "stdout",
          "text": [
            "mean: 135.236\n"
          ]
        }
      ]
    },
    {
      "cell_type": "code",
      "source": [
        "print('std:',np.round(np.std(df.Y2015),3))"
      ],
      "metadata": {
        "colab": {
          "base_uri": "https://localhost:8080/"
        },
        "id": "Z82XIT8OqJZx",
        "outputId": "ecda7b50-2c66-4d71-a18f-f02ede8cefa7"
      },
      "execution_count": 22,
      "outputs": [
        {
          "output_type": "stream",
          "name": "stdout",
          "text": [
            "std: 1603.39\n"
          ]
        }
      ]
    },
    {
      "cell_type": "code",
      "source": [
        "#13\n",
        "df.isna().sum()"
      ],
      "metadata": {
        "colab": {
          "base_uri": "https://localhost:8080/"
        },
        "id": "_6TT83DNqb2t",
        "outputId": "28bea1c7-c49c-4753-8567-0dedcc0db3c3"
      },
      "execution_count": 23,
      "outputs": [
        {
          "output_type": "execute_result",
          "data": {
            "text/plain": [
              "Area Code          0\n",
              "Area               0\n",
              "Item Code          0\n",
              "Item               0\n",
              "Element Code       0\n",
              "Element            0\n",
              "Unit               0\n",
              "Y2014           1589\n",
              "Y2015           1548\n",
              "Y2016           1535\n",
              "Y2017           1506\n",
              "Y2018           1436\n",
              "dtype: int64"
            ]
          },
          "metadata": {},
          "execution_count": 23
        }
      ]
    },
    {
      "cell_type": "code",
      "source": [
        "#14\n",
        "df.corr()"
      ],
      "metadata": {
        "colab": {
          "base_uri": "https://localhost:8080/",
          "height": 300
        },
        "id": "4lHFU9_gqmCS",
        "outputId": "024ba8ea-f614-429b-abfa-9b2eeeb0ced7"
      },
      "execution_count": 24,
      "outputs": [
        {
          "output_type": "execute_result",
          "data": {
            "text/html": [
              "\n",
              "  <div id=\"df-366dde97-238d-4891-84f5-780b5cdc8baa\">\n",
              "    <div class=\"colab-df-container\">\n",
              "      <div>\n",
              "<style scoped>\n",
              "    .dataframe tbody tr th:only-of-type {\n",
              "        vertical-align: middle;\n",
              "    }\n",
              "\n",
              "    .dataframe tbody tr th {\n",
              "        vertical-align: top;\n",
              "    }\n",
              "\n",
              "    .dataframe thead th {\n",
              "        text-align: right;\n",
              "    }\n",
              "</style>\n",
              "<table border=\"1\" class=\"dataframe\">\n",
              "  <thead>\n",
              "    <tr style=\"text-align: right;\">\n",
              "      <th></th>\n",
              "      <th>Area Code</th>\n",
              "      <th>Item Code</th>\n",
              "      <th>Element Code</th>\n",
              "      <th>Y2014</th>\n",
              "      <th>Y2015</th>\n",
              "      <th>Y2016</th>\n",
              "      <th>Y2017</th>\n",
              "      <th>Y2018</th>\n",
              "    </tr>\n",
              "  </thead>\n",
              "  <tbody>\n",
              "    <tr>\n",
              "      <th>Area Code</th>\n",
              "      <td>1.000000</td>\n",
              "      <td>-0.005159</td>\n",
              "      <td>-0.000209</td>\n",
              "      <td>0.006164</td>\n",
              "      <td>0.005472</td>\n",
              "      <td>0.005247</td>\n",
              "      <td>0.005006</td>\n",
              "      <td>0.005665</td>\n",
              "    </tr>\n",
              "    <tr>\n",
              "      <th>Item Code</th>\n",
              "      <td>-0.005159</td>\n",
              "      <td>1.000000</td>\n",
              "      <td>-0.024683</td>\n",
              "      <td>0.021722</td>\n",
              "      <td>0.020857</td>\n",
              "      <td>0.020109</td>\n",
              "      <td>0.021494</td>\n",
              "      <td>0.021314</td>\n",
              "    </tr>\n",
              "    <tr>\n",
              "      <th>Element Code</th>\n",
              "      <td>-0.000209</td>\n",
              "      <td>-0.024683</td>\n",
              "      <td>1.000000</td>\n",
              "      <td>0.024457</td>\n",
              "      <td>0.023889</td>\n",
              "      <td>0.023444</td>\n",
              "      <td>0.024254</td>\n",
              "      <td>0.024279</td>\n",
              "    </tr>\n",
              "    <tr>\n",
              "      <th>Y2014</th>\n",
              "      <td>0.006164</td>\n",
              "      <td>0.021722</td>\n",
              "      <td>0.024457</td>\n",
              "      <td>1.000000</td>\n",
              "      <td>0.994647</td>\n",
              "      <td>0.996081</td>\n",
              "      <td>0.995230</td>\n",
              "      <td>0.994872</td>\n",
              "    </tr>\n",
              "    <tr>\n",
              "      <th>Y2015</th>\n",
              "      <td>0.005472</td>\n",
              "      <td>0.020857</td>\n",
              "      <td>0.023889</td>\n",
              "      <td>0.994647</td>\n",
              "      <td>1.000000</td>\n",
              "      <td>0.995739</td>\n",
              "      <td>0.988048</td>\n",
              "      <td>0.988208</td>\n",
              "    </tr>\n",
              "    <tr>\n",
              "      <th>Y2016</th>\n",
              "      <td>0.005247</td>\n",
              "      <td>0.020109</td>\n",
              "      <td>0.023444</td>\n",
              "      <td>0.996081</td>\n",
              "      <td>0.995739</td>\n",
              "      <td>1.000000</td>\n",
              "      <td>0.992785</td>\n",
              "      <td>0.992757</td>\n",
              "    </tr>\n",
              "    <tr>\n",
              "      <th>Y2017</th>\n",
              "      <td>0.005006</td>\n",
              "      <td>0.021494</td>\n",
              "      <td>0.024254</td>\n",
              "      <td>0.995230</td>\n",
              "      <td>0.988048</td>\n",
              "      <td>0.992785</td>\n",
              "      <td>1.000000</td>\n",
              "      <td>0.998103</td>\n",
              "    </tr>\n",
              "    <tr>\n",
              "      <th>Y2018</th>\n",
              "      <td>0.005665</td>\n",
              "      <td>0.021314</td>\n",
              "      <td>0.024279</td>\n",
              "      <td>0.994872</td>\n",
              "      <td>0.988208</td>\n",
              "      <td>0.992757</td>\n",
              "      <td>0.998103</td>\n",
              "      <td>1.000000</td>\n",
              "    </tr>\n",
              "  </tbody>\n",
              "</table>\n",
              "</div>\n",
              "      <button class=\"colab-df-convert\" onclick=\"convertToInteractive('df-366dde97-238d-4891-84f5-780b5cdc8baa')\"\n",
              "              title=\"Convert this dataframe to an interactive table.\"\n",
              "              style=\"display:none;\">\n",
              "        \n",
              "  <svg xmlns=\"http://www.w3.org/2000/svg\" height=\"24px\"viewBox=\"0 0 24 24\"\n",
              "       width=\"24px\">\n",
              "    <path d=\"M0 0h24v24H0V0z\" fill=\"none\"/>\n",
              "    <path d=\"M18.56 5.44l.94 2.06.94-2.06 2.06-.94-2.06-.94-.94-2.06-.94 2.06-2.06.94zm-11 1L8.5 8.5l.94-2.06 2.06-.94-2.06-.94L8.5 2.5l-.94 2.06-2.06.94zm10 10l.94 2.06.94-2.06 2.06-.94-2.06-.94-.94-2.06-.94 2.06-2.06.94z\"/><path d=\"M17.41 7.96l-1.37-1.37c-.4-.4-.92-.59-1.43-.59-.52 0-1.04.2-1.43.59L10.3 9.45l-7.72 7.72c-.78.78-.78 2.05 0 2.83L4 21.41c.39.39.9.59 1.41.59.51 0 1.02-.2 1.41-.59l7.78-7.78 2.81-2.81c.8-.78.8-2.07 0-2.86zM5.41 20L4 18.59l7.72-7.72 1.47 1.35L5.41 20z\"/>\n",
              "  </svg>\n",
              "      </button>\n",
              "      \n",
              "  <style>\n",
              "    .colab-df-container {\n",
              "      display:flex;\n",
              "      flex-wrap:wrap;\n",
              "      gap: 12px;\n",
              "    }\n",
              "\n",
              "    .colab-df-convert {\n",
              "      background-color: #E8F0FE;\n",
              "      border: none;\n",
              "      border-radius: 50%;\n",
              "      cursor: pointer;\n",
              "      display: none;\n",
              "      fill: #1967D2;\n",
              "      height: 32px;\n",
              "      padding: 0 0 0 0;\n",
              "      width: 32px;\n",
              "    }\n",
              "\n",
              "    .colab-df-convert:hover {\n",
              "      background-color: #E2EBFA;\n",
              "      box-shadow: 0px 1px 2px rgba(60, 64, 67, 0.3), 0px 1px 3px 1px rgba(60, 64, 67, 0.15);\n",
              "      fill: #174EA6;\n",
              "    }\n",
              "\n",
              "    [theme=dark] .colab-df-convert {\n",
              "      background-color: #3B4455;\n",
              "      fill: #D2E3FC;\n",
              "    }\n",
              "\n",
              "    [theme=dark] .colab-df-convert:hover {\n",
              "      background-color: #434B5C;\n",
              "      box-shadow: 0px 1px 3px 1px rgba(0, 0, 0, 0.15);\n",
              "      filter: drop-shadow(0px 1px 2px rgba(0, 0, 0, 0.3));\n",
              "      fill: #FFFFFF;\n",
              "    }\n",
              "  </style>\n",
              "\n",
              "      <script>\n",
              "        const buttonEl =\n",
              "          document.querySelector('#df-366dde97-238d-4891-84f5-780b5cdc8baa button.colab-df-convert');\n",
              "        buttonEl.style.display =\n",
              "          google.colab.kernel.accessAllowed ? 'block' : 'none';\n",
              "\n",
              "        async function convertToInteractive(key) {\n",
              "          const element = document.querySelector('#df-366dde97-238d-4891-84f5-780b5cdc8baa');\n",
              "          const dataTable =\n",
              "            await google.colab.kernel.invokeFunction('convertToInteractive',\n",
              "                                                     [key], {});\n",
              "          if (!dataTable) return;\n",
              "\n",
              "          const docLinkHtml = 'Like what you see? Visit the ' +\n",
              "            '<a target=\"_blank\" href=https://colab.research.google.com/notebooks/data_table.ipynb>data table notebook</a>'\n",
              "            + ' to learn more about interactive tables.';\n",
              "          element.innerHTML = '';\n",
              "          dataTable['output_type'] = 'display_data';\n",
              "          await google.colab.output.renderOutput(dataTable, element);\n",
              "          const docLink = document.createElement('div');\n",
              "          docLink.innerHTML = docLinkHtml;\n",
              "          element.appendChild(docLink);\n",
              "        }\n",
              "      </script>\n",
              "    </div>\n",
              "  </div>\n",
              "  "
            ],
            "text/plain": [
              "              Area Code  Item Code  Element Code  ...     Y2016     Y2017     Y2018\n",
              "Area Code      1.000000  -0.005159     -0.000209  ...  0.005247  0.005006  0.005665\n",
              "Item Code     -0.005159   1.000000     -0.024683  ...  0.020109  0.021494  0.021314\n",
              "Element Code  -0.000209  -0.024683      1.000000  ...  0.023444  0.024254  0.024279\n",
              "Y2014          0.006164   0.021722      0.024457  ...  0.996081  0.995230  0.994872\n",
              "Y2015          0.005472   0.020857      0.023889  ...  0.995739  0.988048  0.988208\n",
              "Y2016          0.005247   0.020109      0.023444  ...  1.000000  0.992785  0.992757\n",
              "Y2017          0.005006   0.021494      0.024254  ...  0.992785  1.000000  0.998103\n",
              "Y2018          0.005665   0.021314      0.024279  ...  0.992757  0.998103  1.000000\n",
              "\n",
              "[8 rows x 8 columns]"
            ]
          },
          "metadata": {},
          "execution_count": 24
        }
      ]
    },
    {
      "cell_type": "code",
      "source": [
        "#15\n",
        "df.groupby(['Element']).sum().loc['Import Quantity']"
      ],
      "metadata": {
        "colab": {
          "base_uri": "https://localhost:8080/"
        },
        "id": "7ChiLjHUqrnO",
        "outputId": "400decc6-1491-4cf9-8e38-b43370972284"
      },
      "execution_count": 25,
      "outputs": [
        {
          "output_type": "execute_result",
          "data": {
            "text/plain": [
              "Area Code         688174.00\n",
              "Item Code       13795966.00\n",
              "Element Code    28834929.00\n",
              "Y2014             274144.48\n",
              "Y2015             267018.46\n",
              "Y2016             286582.78\n",
              "Y2017             294559.09\n",
              "Y2018             287997.09\n",
              "Name: Import Quantity, dtype: float64"
            ]
          },
          "metadata": {},
          "execution_count": 25
        }
      ]
    },
    {
      "cell_type": "code",
      "source": [
        "#16\n",
        "df.groupby(['Element']).sum().loc['Production','Y2014']"
      ],
      "metadata": {
        "colab": {
          "base_uri": "https://localhost:8080/"
        },
        "id": "KSo56Szrq8oD",
        "outputId": "e2ea658c-0347-40b0-8d07-c0aec1977a8e"
      },
      "execution_count": 26,
      "outputs": [
        {
          "output_type": "execute_result",
          "data": {
            "text/plain": [
              "1931287.7500000005"
            ]
          },
          "metadata": {},
          "execution_count": 26
        }
      ]
    },
    {
      "cell_type": "code",
      "source": [
        "#17,18\n",
        "max=df[['Y2018','Element']].groupby(['Element']).sum()\n",
        "max.sort_values('Y2018',ascending=False)"
      ],
      "metadata": {
        "colab": {
          "base_uri": "https://localhost:8080/",
          "height": 645
        },
        "id": "ugEjKKHxrZ5N",
        "outputId": "da93aa37-efe4-48c4-e43c-787df01ccc4c"
      },
      "execution_count": 29,
      "outputs": [
        {
          "output_type": "execute_result",
          "data": {
            "text/html": [
              "\n",
              "  <div id=\"df-ac5e2f9d-ec7a-4589-926a-f33ffbaba29b\">\n",
              "    <div class=\"colab-df-container\">\n",
              "      <div>\n",
              "<style scoped>\n",
              "    .dataframe tbody tr th:only-of-type {\n",
              "        vertical-align: middle;\n",
              "    }\n",
              "\n",
              "    .dataframe tbody tr th {\n",
              "        vertical-align: top;\n",
              "    }\n",
              "\n",
              "    .dataframe thead th {\n",
              "        text-align: right;\n",
              "    }\n",
              "</style>\n",
              "<table border=\"1\" class=\"dataframe\">\n",
              "  <thead>\n",
              "    <tr style=\"text-align: right;\">\n",
              "      <th></th>\n",
              "      <th>Y2018</th>\n",
              "    </tr>\n",
              "    <tr>\n",
              "      <th>Element</th>\n",
              "      <th></th>\n",
              "    </tr>\n",
              "  </thead>\n",
              "  <tbody>\n",
              "    <tr>\n",
              "      <th>Domestic supply quantity</th>\n",
              "      <td>2161192.10</td>\n",
              "    </tr>\n",
              "    <tr>\n",
              "      <th>Production</th>\n",
              "      <td>2075072.89</td>\n",
              "    </tr>\n",
              "    <tr>\n",
              "      <th>Food</th>\n",
              "      <td>1303841.28</td>\n",
              "    </tr>\n",
              "    <tr>\n",
              "      <th>Total Population - Both sexes</th>\n",
              "      <td>1140605.00</td>\n",
              "    </tr>\n",
              "    <tr>\n",
              "      <th>Food supply (kcal/capita/day)</th>\n",
              "      <td>455261.00</td>\n",
              "    </tr>\n",
              "    <tr>\n",
              "      <th>Processing</th>\n",
              "      <td>308429.00</td>\n",
              "    </tr>\n",
              "    <tr>\n",
              "      <th>Import Quantity</th>\n",
              "      <td>287997.09</td>\n",
              "    </tr>\n",
              "    <tr>\n",
              "      <th>Feed</th>\n",
              "      <td>233489.68</td>\n",
              "    </tr>\n",
              "    <tr>\n",
              "      <th>Export Quantity</th>\n",
              "      <td>181594.80</td>\n",
              "    </tr>\n",
              "    <tr>\n",
              "      <th>Losses</th>\n",
              "      <td>163902.00</td>\n",
              "    </tr>\n",
              "    <tr>\n",
              "      <th>Other uses (non-food)</th>\n",
              "      <td>91300.97</td>\n",
              "    </tr>\n",
              "    <tr>\n",
              "      <th>Food supply quantity (kg/capita/yr)</th>\n",
              "      <td>49056.85</td>\n",
              "    </tr>\n",
              "    <tr>\n",
              "      <th>Residuals</th>\n",
              "      <td>34864.00</td>\n",
              "    </tr>\n",
              "    <tr>\n",
              "      <th>Seed</th>\n",
              "      <td>25263.14</td>\n",
              "    </tr>\n",
              "    <tr>\n",
              "      <th>Stock Variation</th>\n",
              "      <td>20577.91</td>\n",
              "    </tr>\n",
              "    <tr>\n",
              "      <th>Protein supply quantity (g/capita/day)</th>\n",
              "      <td>11833.56</td>\n",
              "    </tr>\n",
              "    <tr>\n",
              "      <th>Fat supply quantity (g/capita/day)</th>\n",
              "      <td>10258.69</td>\n",
              "    </tr>\n",
              "    <tr>\n",
              "      <th>Tourist consumption</th>\n",
              "      <td>90.00</td>\n",
              "    </tr>\n",
              "  </tbody>\n",
              "</table>\n",
              "</div>\n",
              "      <button class=\"colab-df-convert\" onclick=\"convertToInteractive('df-ac5e2f9d-ec7a-4589-926a-f33ffbaba29b')\"\n",
              "              title=\"Convert this dataframe to an interactive table.\"\n",
              "              style=\"display:none;\">\n",
              "        \n",
              "  <svg xmlns=\"http://www.w3.org/2000/svg\" height=\"24px\"viewBox=\"0 0 24 24\"\n",
              "       width=\"24px\">\n",
              "    <path d=\"M0 0h24v24H0V0z\" fill=\"none\"/>\n",
              "    <path d=\"M18.56 5.44l.94 2.06.94-2.06 2.06-.94-2.06-.94-.94-2.06-.94 2.06-2.06.94zm-11 1L8.5 8.5l.94-2.06 2.06-.94-2.06-.94L8.5 2.5l-.94 2.06-2.06.94zm10 10l.94 2.06.94-2.06 2.06-.94-2.06-.94-.94-2.06-.94 2.06-2.06.94z\"/><path d=\"M17.41 7.96l-1.37-1.37c-.4-.4-.92-.59-1.43-.59-.52 0-1.04.2-1.43.59L10.3 9.45l-7.72 7.72c-.78.78-.78 2.05 0 2.83L4 21.41c.39.39.9.59 1.41.59.51 0 1.02-.2 1.41-.59l7.78-7.78 2.81-2.81c.8-.78.8-2.07 0-2.86zM5.41 20L4 18.59l7.72-7.72 1.47 1.35L5.41 20z\"/>\n",
              "  </svg>\n",
              "      </button>\n",
              "      \n",
              "  <style>\n",
              "    .colab-df-container {\n",
              "      display:flex;\n",
              "      flex-wrap:wrap;\n",
              "      gap: 12px;\n",
              "    }\n",
              "\n",
              "    .colab-df-convert {\n",
              "      background-color: #E8F0FE;\n",
              "      border: none;\n",
              "      border-radius: 50%;\n",
              "      cursor: pointer;\n",
              "      display: none;\n",
              "      fill: #1967D2;\n",
              "      height: 32px;\n",
              "      padding: 0 0 0 0;\n",
              "      width: 32px;\n",
              "    }\n",
              "\n",
              "    .colab-df-convert:hover {\n",
              "      background-color: #E2EBFA;\n",
              "      box-shadow: 0px 1px 2px rgba(60, 64, 67, 0.3), 0px 1px 3px 1px rgba(60, 64, 67, 0.15);\n",
              "      fill: #174EA6;\n",
              "    }\n",
              "\n",
              "    [theme=dark] .colab-df-convert {\n",
              "      background-color: #3B4455;\n",
              "      fill: #D2E3FC;\n",
              "    }\n",
              "\n",
              "    [theme=dark] .colab-df-convert:hover {\n",
              "      background-color: #434B5C;\n",
              "      box-shadow: 0px 1px 3px 1px rgba(0, 0, 0, 0.15);\n",
              "      filter: drop-shadow(0px 1px 2px rgba(0, 0, 0, 0.3));\n",
              "      fill: #FFFFFF;\n",
              "    }\n",
              "  </style>\n",
              "\n",
              "      <script>\n",
              "        const buttonEl =\n",
              "          document.querySelector('#df-ac5e2f9d-ec7a-4589-926a-f33ffbaba29b button.colab-df-convert');\n",
              "        buttonEl.style.display =\n",
              "          google.colab.kernel.accessAllowed ? 'block' : 'none';\n",
              "\n",
              "        async function convertToInteractive(key) {\n",
              "          const element = document.querySelector('#df-ac5e2f9d-ec7a-4589-926a-f33ffbaba29b');\n",
              "          const dataTable =\n",
              "            await google.colab.kernel.invokeFunction('convertToInteractive',\n",
              "                                                     [key], {});\n",
              "          if (!dataTable) return;\n",
              "\n",
              "          const docLinkHtml = 'Like what you see? Visit the ' +\n",
              "            '<a target=\"_blank\" href=https://colab.research.google.com/notebooks/data_table.ipynb>data table notebook</a>'\n",
              "            + ' to learn more about interactive tables.';\n",
              "          element.innerHTML = '';\n",
              "          dataTable['output_type'] = 'display_data';\n",
              "          await google.colab.output.renderOutput(dataTable, element);\n",
              "          const docLink = document.createElement('div');\n",
              "          docLink.innerHTML = docLinkHtml;\n",
              "          element.appendChild(docLink);\n",
              "        }\n",
              "      </script>\n",
              "    </div>\n",
              "  </div>\n",
              "  "
            ],
            "text/plain": [
              "                                             Y2018\n",
              "Element                                           \n",
              "Domestic supply quantity                2161192.10\n",
              "Production                              2075072.89\n",
              "Food                                    1303841.28\n",
              "Total Population - Both sexes           1140605.00\n",
              "Food supply (kcal/capita/day)            455261.00\n",
              "Processing                               308429.00\n",
              "Import Quantity                          287997.09\n",
              "Feed                                     233489.68\n",
              "Export Quantity                          181594.80\n",
              "Losses                                   163902.00\n",
              "Other uses (non-food)                     91300.97\n",
              "Food supply quantity (kg/capita/yr)       49056.85\n",
              "Residuals                                 34864.00\n",
              "Seed                                      25263.14\n",
              "Stock Variation                           20577.91\n",
              "Protein supply quantity (g/capita/day)    11833.56\n",
              "Fat supply quantity (g/capita/day)        10258.69\n",
              "Tourist consumption                          90.00"
            ]
          },
          "metadata": {},
          "execution_count": 29
        }
      ]
    },
    {
      "cell_type": "code",
      "source": [
        "#19\n",
        "Algeria=df[df['Area']=='Algeria']\n",
        "Algeria.groupby('Element').sum().loc['Import Quantity','Y2018']"
      ],
      "metadata": {
        "colab": {
          "base_uri": "https://localhost:8080/"
        },
        "id": "8d0ItzbLsHcc",
        "outputId": "e9abab53-d723-4824-eab0-2f80350ffb5f"
      },
      "execution_count": 32,
      "outputs": [
        {
          "output_type": "execute_result",
          "data": {
            "text/plain": [
              "36238.29"
            ]
          },
          "metadata": {},
          "execution_count": 32
        }
      ]
    },
    {
      "cell_type": "code",
      "source": [
        "#20\n",
        "df['Area'].nunique()"
      ],
      "metadata": {
        "colab": {
          "base_uri": "https://localhost:8080/"
        },
        "id": "Pfn1yWKNs1TR",
        "outputId": "09b57a68-a1f9-4fe6-c4a9-dbf4a71b9874"
      },
      "execution_count": 33,
      "outputs": [
        {
          "output_type": "execute_result",
          "data": {
            "text/plain": [
              "49"
            ]
          },
          "metadata": {},
          "execution_count": 33
        }
      ]
    }
  ]
}